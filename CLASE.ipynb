{
 "cells": [
  {
   "cell_type": "code",
   "execution_count": 5,
   "metadata": {},
   "outputs": [
    {
     "name": "stdout",
     "output_type": "stream",
     "text": [
      "  show_id     type                  title         director  \\\n",
      "0      s1    Movie   Dick Johnson Is Dead  Kirsten Johnson   \n",
      "1      s2  TV Show          Blood & Water              NaN   \n",
      "2      s3  TV Show              Ganglands  Julien Leclercq   \n",
      "3      s4  TV Show  Jailbirds New Orleans              NaN   \n",
      "4      s5  TV Show           Kota Factory              NaN   \n",
      "\n",
      "                                                cast        country  \\\n",
      "0                                                NaN  United States   \n",
      "1  Ama Qamata, Khosi Ngema, Gail Mabalane, Thaban...   South Africa   \n",
      "2  Sami Bouajila, Tracy Gotoas, Samuel Jouy, Nabi...            NaN   \n",
      "3                                                NaN            NaN   \n",
      "4  Mayur More, Jitendra Kumar, Ranjan Raj, Alam K...          India   \n",
      "\n",
      "           date_added  release_year rating   duration  \\\n",
      "0  September 25, 2021          2020  PG-13     90 min   \n",
      "1  September 24, 2021          2021  TV-MA  2 Seasons   \n",
      "2  September 24, 2021          2021  TV-MA   1 Season   \n",
      "3  September 24, 2021          2021  TV-MA   1 Season   \n",
      "4  September 24, 2021          2021  TV-MA  2 Seasons   \n",
      "\n",
      "                                           listed_in  \\\n",
      "0                                      Documentaries   \n",
      "1    International TV Shows, TV Dramas, TV Mysteries   \n",
      "2  Crime TV Shows, International TV Shows, TV Act...   \n",
      "3                             Docuseries, Reality TV   \n",
      "4  International TV Shows, Romantic TV Shows, TV ...   \n",
      "\n",
      "                                         description  \n",
      "0  As her father nears the end of his life, filmm...  \n",
      "1  After crossing paths at a party, a Cape Town t...  \n",
      "2  To protect his family from a powerful drug lor...  \n",
      "3  Feuds, flirtations and toilet talk go down amo...  \n",
      "4  In a city of coaching centers known to train I...  \n",
      "la media es  2014.1801975701146\n",
      "el promedio es  2014.1801975701146\n",
      "la mediana es :  2017.0\n",
      "la desviacion estandar es :  8.818811417623195\n",
      "la moda  es :  2018 y esta se repite  1147 veces\n",
      "la varianza  es :  77.77143481960121\n"
     ]
    }
   ],
   "source": [
    "import pandas as pd\n",
    "import numpy as np\n",
    "from scipy import stats\n",
    "\n",
    "df = pd.read_csv(\"netflix.csv\")\n",
    "\n",
    "print (df.head())\n",
    "\n",
    "\n",
    "media = np.mean(df['release_year']) \n",
    "print((\"la media es \"),media)\n",
    "promedio = np.average(df['release_year'])\n",
    "print((\"el promedio es \"),promedio)\n",
    "mediana = np.median(df['release_year'])\n",
    "print((\"la mediana es : \"),mediana)\n",
    "desviacion = np.std(df['release_year'])\n",
    "print((\"la desviacion estandar es : \"),desviacion)\n",
    "moda = stats.mode(df['release_year'])\n",
    "print((\"la moda  es : \"),moda.mode, \"y esta se repite \",moda.count, \"veces\"   )\n",
    "varianza = np.var(df['release_year'])\n",
    "print((\"la varianza  es : \"),varianza)\n",
    "\n"
   ]
  },
  {
   "cell_type": "markdown",
   "metadata": {},
   "source": [
    "### Media y promedio: 2014.18\n",
    "\n",
    "Tanto la media como el promedio del año de lanzamiento son aproximadamente 2014. Esto indica que, en general, la mayoría de las películas y series en el dataset se lanzaron en un período cercano a 2014. Es posible que Netflix comenzara a producir más contenido original alrededor de 2014.\n",
    "\n",
    "### Mediana: 2017\n",
    "\n",
    "La mediana es 2017, lo que quiere decir que la mitad de los lanzamientos son de antes de ese año y la otra mitad son de después. Como la mediana es más alta que la media, esto indica que hubo muchos lanzamientos en años más recientes que están haciendo que la media suba.\n",
    "\n",
    "### Desviación Estándar: 8.82\n",
    "\n",
    "La desviación estándar de 8.82 muestra que los años de lanzamiento varían bastante, pero no demasiado. Esto significa que, aunque muchos lanzamientos son de años cercanos a 2014, hay también algunos de años más lejanos.\n",
    "\n",
    "### Moda: 2018 (1147 veces)\n",
    "\n",
    "La moda es 2018, lo que significa que ese año tuvo el mayor número de lanzamientos, con 1147 películas y series. Esto sugiere que Netflix probablemente se enfocó en llenar su catálogo ese año, posiblemente para competir mejor en el mercado.\n",
    "\n",
    "### Varianza: 77.77\n",
    "\n",
    "La varianza, que mide la dispersión de los datos, es también relativamente baja. Esto significa que los lanzamientos no están muy alejados de la media.\n"
   ]
  }
 ],
 "metadata": {
  "kernelspec": {
   "display_name": "Python 3",
   "language": "python",
   "name": "python3"
  },
  "language_info": {
   "codemirror_mode": {
    "name": "ipython",
    "version": 3
   },
   "file_extension": ".py",
   "mimetype": "text/x-python",
   "name": "python",
   "nbconvert_exporter": "python",
   "pygments_lexer": "ipython3",
   "version": "3.10.11"
  }
 },
 "nbformat": 4,
 "nbformat_minor": 2
}
